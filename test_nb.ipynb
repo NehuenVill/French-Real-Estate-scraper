{
 "cells": [
  {
   "cell_type": "code",
   "execution_count": 4,
   "metadata": {},
   "outputs": [],
   "source": [
    "\n",
    "from selenium import webdriver\n",
    "from time import sleep\n",
    "from selenium.webdriver.edge.service import Service\n",
    "from webdriver_manager.microsoft import EdgeChromiumDriverManager\n",
    "from selenium.webdriver.common.by import By\n",
    "from selenium.webdriver.support.wait import WebDriverWait\n",
    "from selenium.webdriver.common.keys import Keys\n",
    "from selenium.webdriver.common.action_chains import ActionChains\n",
    "from selenium.webdriver.edge.options import Options\n"
   ]
  },
  {
   "cell_type": "code",
   "execution_count": 12,
   "metadata": {},
   "outputs": [
    {
     "name": "stderr",
     "output_type": "stream",
     "text": [
      "[WDM] - ====== WebDriver manager ======\n",
      "[WDM] - Driver [C:\\Users\\nehue\\.wdm\\drivers\\edgedriver\\win64\\117.0.2045.60\\msedgedriver.exe] found in cache\n"
     ]
    },
    {
     "ename": "KeyboardInterrupt",
     "evalue": "",
     "output_type": "error",
     "traceback": [
      "\u001b[1;31m---------------------------------------------------------------------------\u001b[0m",
      "\u001b[1;31mKeyboardInterrupt\u001b[0m                         Traceback (most recent call last)",
      "\u001b[1;32mc:\\Users\\nehue\\Documents\\programas_de_python\\Upwork_tasks\\French_RE_scraping\\test_nb.ipynb Cell 2'\u001b[0m in \u001b[0;36m<cell line: 7>\u001b[1;34m()\u001b[0m\n\u001b[0;32m      <a href='vscode-notebook-cell:/c%3A/Users/nehue/Documents/programas_de_python/Upwork_tasks/French_RE_scraping/test_nb.ipynb#ch0000001?line=2'>3</a>\u001b[0m driver \u001b[39m=\u001b[39m webdriver\u001b[39m.\u001b[39mEdge(service\u001b[39m=\u001b[39mservice)\n\u001b[0;32m      <a href='vscode-notebook-cell:/c%3A/Users/nehue/Documents/programas_de_python/Upwork_tasks/French_RE_scraping/test_nb.ipynb#ch0000001?line=4'>5</a>\u001b[0m driver\u001b[39m.\u001b[39mget(\u001b[39m\"\u001b[39m\u001b[39mhttps://ge.ch/terextraitfoncier/immeuble.aspx\u001b[39m\u001b[39m\"\u001b[39m)\n\u001b[1;32m----> <a href='vscode-notebook-cell:/c%3A/Users/nehue/Documents/programas_de_python/Upwork_tasks/French_RE_scraping/test_nb.ipynb#ch0000001?line=6'>7</a>\u001b[0m sleep(\u001b[39m15\u001b[39;49m)\n\u001b[0;32m      <a href='vscode-notebook-cell:/c%3A/Users/nehue/Documents/programas_de_python/Upwork_tasks/French_RE_scraping/test_nb.ipynb#ch0000001?line=8'>9</a>\u001b[0m captcha \u001b[39m=\u001b[39m driver\u001b[39m.\u001b[39mfind_element(By\u001b[39m.\u001b[39mCLASS_NAME, \u001b[39m\"\u001b[39m\u001b[39mrecaptcha-checkbox-borderAnimation\u001b[39m\u001b[39m\"\u001b[39m)\n\u001b[0;32m     <a href='vscode-notebook-cell:/c%3A/Users/nehue/Documents/programas_de_python/Upwork_tasks/French_RE_scraping/test_nb.ipynb#ch0000001?line=10'>11</a>\u001b[0m captcha\u001b[39m.\u001b[39mclick()\n",
      "\u001b[1;31mKeyboardInterrupt\u001b[0m: "
     ]
    }
   ],
   "source": [
    "service = Service(EdgeChromiumDriverManager().install())\n",
    "\n",
    "driver = webdriver.Edge(service=service)\n",
    "\n",
    "edge_options = Options()\n",
    "\n",
    "heads = {\n",
    "    \n",
    "}\n",
    "\n",
    "for key, value in heads.items():\n",
    "        \n",
    "        edge_options.add_argument(f'--{key}={value}')\n",
    "\n",
    "\n",
    "driver.get(\"https://ge.ch/terextraitfoncier/immeuble.aspx\")\n",
    "\n",
    "sleep(15)\n",
    "\n",
    "captcha = driver.find_element(By.CLASS_NAME, \"recaptcha-checkbox-borderAnimation\")\n",
    "\n",
    "captcha.click()\n",
    "\n",
    "sleep(15)\n",
    "\n",
    "ex = driver.find_element(By.ID, \"btnSubmit\")\n",
    "\n",
    "ex.click()\n",
    "\n",
    "sleep(1500)"
   ]
  }
 ],
 "metadata": {
  "interpreter": {
   "hash": "3a4565eb6215a326995d9cfd00f1782ebb9ab334d122fb684360bfee2e0fdc62"
  },
  "kernelspec": {
   "display_name": "Python 3.9.5 64-bit",
   "language": "python",
   "name": "python3"
  },
  "language_info": {
   "codemirror_mode": {
    "name": "ipython",
    "version": 3
   },
   "file_extension": ".py",
   "mimetype": "text/x-python",
   "name": "python",
   "nbconvert_exporter": "python",
   "pygments_lexer": "ipython3",
   "version": "3.9.5"
  },
  "orig_nbformat": 4
 },
 "nbformat": 4,
 "nbformat_minor": 2
}
